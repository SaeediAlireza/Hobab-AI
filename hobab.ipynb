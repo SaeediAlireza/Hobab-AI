{
 "cells": [
  {
   "cell_type": "code",
   "execution_count": 19,
   "id": "31c6671b",
   "metadata": {},
   "outputs": [],
   "source": [
    "import pandas as pd\n",
    "import numpy as np\n",
    "import pylab as pl\n",
    "import matplotlib.pyplot as plt\n",
    "from sklearn import linear_model\n",
    "from sklearn.metrics import r2_score\n",
    "import seaborn as sns\n",
    "\n",
    "from mpl_toolkits.mplot3d import Axes3D\n",
    "from sklearn.preprocessing import PolynomialFeatures\n",
    "from sklearn.linear_model import LinearRegression\n",
    "from sklearn.model_selection import train_test_split"
   ]
  },
  {
   "cell_type": "code",
   "execution_count": 86,
   "id": "c5b6df87",
   "metadata": {},
   "outputs": [],
   "source": [
    "# df = pd.read_csv(\"/home/alireza/Documents/ml/dataset/carp/CrabAgePrediction.csv\",low_memory=False)\n",
    "df  = pd.read_csv(\"/home/alireza/Documents/ml/dataset/beluga/beluga.csv\",low_memory=False)\n",
    "deletated_data = \"\"\"\n",
    "    37,39.13,129.67\n",
    "    38,43.98,115.03\n",
    "    39,45.09,115.14\n",
    "    40,24.01,55.1\n",
    "    35,40.33,118.63\n",
    "    36,43.18,112.41\n",
    "    31,34.19,94.7\n",
    "    \"\"\""
   ]
  },
  {
   "cell_type": "code",
   "execution_count": 87,
   "id": "e8a3ab54",
   "metadata": {},
   "outputs": [
    {
     "data": {
      "image/png": "[encoded data removed]",
      "text/plain": [
       "<Figure size 640x480 with 1 Axes>"
      ]
     },
     "metadata": {},
     "output_type": "display_data"
    }
   ],
   "source": [
    "\n",
    "# plt.plot(df[\"Weight\"],df[\"Length\"],\"b.\")\n",
    "plt.plot(df[\"Length\"],df[\"Weight\"],\"r.\")\n",
    "plt.draw()"
   ]
  },
  {
   "cell_type": "code",
   "execution_count": 50,
   "id": "13a24f0e",
   "metadata": {},
   "outputs": [],
   "source": [
    "# for i, row in df.iterrows():\n",
    "#         df.at[i,\"Weight\"] = df.at[i,\"Weight\"]*28.3495231\n",
    "#         df.at[i,\"Length\"] = df.at[i,\"Length\"]*30.48\n",
    "# df\n",
    "# # 0.032808399 cm\n",
    "# # 0.035274 g"
   ]
  },
  {
   "cell_type": "code",
   "execution_count": 88,
   "id": "a3d6df58",
   "metadata": {},
   "outputs": [],
   "source": [
    "new_samples = []\n",
    "for i in range(len(df) - 1):\n",
    "    for alpha in np.linspace(0.1, 0.9, num=10):  # Generate 5 new points between each pair\n",
    "        new_age = (1 - alpha) * df['Age'].iloc[i] + alpha * df['Age'].iloc[i + 1]\n",
    "        new_weight = (1 - alpha) * df['Weight'].iloc[i] + alpha * df['Weight'].iloc[i + 1]\n",
    "        new_length = (1 - alpha) * df['Length'].iloc[i] + alpha * df['Length'].iloc[i + 1]\n",
    "        new_samples.append([new_age, new_weight, new_length])\n",
    "\n",
    "# Convert to DataFrame\n",
    "new_samples_df = pd.DataFrame(new_samples, columns=['Age', 'Weight', 'Length'])\n",
    "augmented_df = pd.concat([df, new_samples_df], ignore_index=True)"
   ]
  },
  {
   "cell_type": "code",
   "execution_count": 89,
   "id": "9afbb8c4",
   "metadata": {},
   "outputs": [],
   "source": [
    "# plt.plot(augmented_df[\"Weight\"],augmented_df[\"Length\"],\"b.\")\n",
    "# plt.plot(df[\"Weight\"],df[\"Length\"],\"r.\")\n",
    "# plt.draw()"
   ]
  },
  {
   "cell_type": "code",
   "execution_count": 19,
   "id": "c0b4f586",
   "metadata": {},
   "outputs": [],
   "source": [
    "# plt.plot( length, age,\"b.\",)\n",
    "# plt.draw()"
   ]
  },
  {
   "cell_type": "code",
   "execution_count": 47,
   "id": "d01dd7e9",
   "metadata": {},
   "outputs": [],
   "source": [
    "# plt.plot( weight, age,\"r.\")\n",
    "# plt.draw()"
   ]
  },
  {
   "cell_type": "code",
   "execution_count": 49,
   "id": "fff84896",
   "metadata": {},
   "outputs": [],
   "source": [
    "# mask = np.random.rand(len(belugas)) < 0.8\n",
    "# training = belugas[mask]\n",
    "# testing = belugas[~mask]"
   ]
  },
  {
   "cell_type": "code",
   "execution_count": 90,
   "id": "cc0c58e0",
   "metadata": {},
   "outputs": [],
   "source": [
    "mask = np.random.rand(len(new_samples_df)) < 0.8\n",
    "training = new_samples_df[mask]\n",
    "testing = new_samples_df[~mask]\n"
   ]
  },
  {
   "cell_type": "code",
   "execution_count": 23,
   "id": "853fced1",
   "metadata": {},
   "outputs": [],
   "source": [
    "#  Old model\n",
    "\n",
    "# linear_model\n",
    "# reg = linear_model.LinearRegression()\n",
    "# train_x = np.asanyarray(training[[\"Weight\"]])\n",
    "# train_y = np.asanyarray(training[[\"Length\"]])\n",
    "# reg.fit(train_x,train_y)\n",
    "# print(reg.coef_)\n",
    "# print(reg.intercept_)"
   ]
  },
  {
   "cell_type": "code",
   "execution_count": 1,
   "id": "83963675",
   "metadata": {
    "scrolled": true
   },
   "outputs": [],
   "source": [
    "# plt.scatter(training.Weight,training.Length, color=\"blue\")\n",
    "# plt.plot(train_x,reg.coef_[0]*train_x + reg.intercept_[0],'-r')"
   ]
  },
  {
   "cell_type": "code",
   "execution_count": 24,
   "id": "9853ca1d",
   "metadata": {},
   "outputs": [],
   "source": [
    "# Old model\n",
    "\n",
    "# test_x = np.asanyarray(testing[[\"Weight\"]])\n",
    "# test_y = np.asanyarray(testing[[\"Length\"]])\n",
    "# test_predict = reg.predict(test_x)\n",
    "\n",
    "# r2_score(test_y,test_predict)\n"
   ]
  },
  {
   "cell_type": "code",
   "execution_count": 26,
   "id": "843dbc3b",
   "metadata": {},
   "outputs": [],
   "source": [
    "# test_x = np.asanyarray(new_samples_df[[\"Age\",\"Weight\"]])\n",
    "# test_y = np.asanyarray(new_samples_df[[\"Length\"]])\n",
    "# test_predict = reg.predict(test_x)\n",
    "\n",
    "# r2_score(test_y,test_predict)\n"
   ]
  },
  {
   "cell_type": "code",
   "execution_count": 3,
   "id": "3379fb8d",
   "metadata": {},
   "outputs": [],
   "source": [
    "# sns.set(style=\"whitegrid\")\n",
    "\n",
    "# # Scatter Plot\n",
    "# plt.figure(figsize=(12, 5))\n",
    "\n",
    "# # Scatter plot for Weight vs Age\n",
    "# plt.subplot(1, 2, 1)\n",
    "# sns.scatterplot(x='Weight', y='Length', data=df)\n",
    "# plt.title('Length vs Weight')\n",
    "# plt.xlabel('Weight')\n",
    "# plt.ylabel('Length')\n",
    "\n",
    "# # Scatter plot for Length vs Age\n",
    "# plt.subplot(1, 2, 2)\n",
    "# sns.scatterplot(x='Age', y='Length', data=df)\n",
    "# plt.title('Length vs Age')\n",
    "# plt.xlabel('Age')\n",
    "# plt.ylabel('Length')\n",
    "\n",
    "# plt.tight_layout()\n",
    "# plt.show()\n"
   ]
  },
  {
   "cell_type": "code",
   "execution_count": 91,
   "id": "d7e1ad76",
   "metadata": {},
   "outputs": [
    {
     "name": "stdout",
     "output_type": "stream",
     "text": [
      "0.8793637901139175\n"
     ]
    }
   ],
   "source": [
    "X = df[['Age', 'Length']]  # Features\n",
    "y = df['Weight']            # Target variable\n",
    "\n",
    "# Split the data into training and testing sets\n",
    "X_train, X_test, y_train, y_test = train_test_split(X, y, test_size=0.2, random_state=42)\n",
    "\n",
    "# Create and fit the model\n",
    "model = LinearRegression()\n",
    "model.fit(X_train, y_train)\n",
    "\n",
    "# Make predictions\n",
    "y_pred = model.predict(X_test)\n",
    "\n",
    "# Evaluate the model\n",
    "# mse = mean_squared_error(y_test, y_pred)\n",
    "r2 = r2_score(y_test, y_pred)\n",
    "print(r2)\n",
    "# print(f'Mean Squared Error: {mse:.2f}')\n",
    "# print(f'R^2 Score: {r2:.2f}')"
   ]
  },
  {
   "cell_type": "code",
   "execution_count": null,
   "id": "3019025c",
   "metadata": {},
   "outputs": [],
   "source": [
    "#### This is the part for PLOT\n",
    "\n",
    "# # Create a grid for Age and Weight for plotting\n",
    "# age_range = np.linspace(df['Age'].min(), df['Age'].max(), 100)\n",
    "# weight_range = np.linspace(df['Weight'].min(), df['Weight'].max(), 100)\n",
    "# age_grid, weight_grid = np.meshgrid(age_range, weight_range)\n",
    "\n",
    "# # Prepare the grid for prediction\n",
    "# grid_points = np.vstack([age_grid.ravel(), weight_grid.ravel()]).T\n",
    "# grid_poly = poly.transform(grid_points)\n",
    "\n",
    "# # Predict Length for the grid\n",
    "# length_pred = model.predict(grid_poly)\n",
    "\n",
    "# # Reshape the predicted values to match the grid\n",
    "# length_grid = length_pred.reshape(age_grid.shape)\n",
    "\n",
    "# # Create a 3D plot\n",
    "# fig = plt.figure(figsize=(10, 8))\n",
    "# ax = fig.add_subplot(111, projection='3d')\n",
    "\n",
    "# # Plot the original training data\n",
    "# scatter_train = ax.scatter(X_train['Age'], X_train['Weight'], y_train, color='b', marker='o', label='Training Data')\n",
    "\n",
    "# # Plot the original test data\n",
    "# scatter_test = ax.scatter(X_test['Age'], X_test['Weight'], y_test, color='g', marker='^', label='Test Data')\n",
    "\n",
    "# # Plot the polynomial surface\n",
    "# ax.plot_surface(age_grid, weight_grid, length_grid, color='r', alpha=0.5)\n",
    "\n",
    "# # Set labels\n",
    "# ax.set_xlabel('Age')\n",
    "# ax.set_ylabel('Weight')\n",
    "# ax.set_zlabel('Length')\n",
    "\n",
    "# # Set title\n",
    "# ax.set_title('3D Polynomial Fit of Length based on Age and Weight')\n",
    "\n",
    "# # Create custom legend\n",
    "# handles = [scatter_train, scatter_test]\n",
    "# labels = ['Training Data', 'Test Data']\n",
    "# ax.legend(handles, labels)\n",
    "\n",
    "# # Show the plot\n",
    "# plt.show()"
   ]
  }
 ],
 "metadata": {
  "kernelspec": {
   "display_name": "Python 3 (ipykernel)",
   "language": "python",
   "name": "python3"
  },
  "language_info": {
   "codemirror_mode": {
    "name": "ipython",
    "version": 3
   },
   "file_extension": ".py",
   "mimetype": "text/x-python",
   "name": "python",
   "nbconvert_exporter": "python",
   "pygments_lexer": "ipython3",
   "version": "3.11.5"
  }
 },
 "nbformat": 4,
 "nbformat_minor": 5
}
